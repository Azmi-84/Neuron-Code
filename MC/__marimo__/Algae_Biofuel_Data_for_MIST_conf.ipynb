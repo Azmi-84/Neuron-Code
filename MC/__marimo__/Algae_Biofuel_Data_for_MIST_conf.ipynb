{
 "cells": [
  {
   "cell_type": "code",
   "execution_count": null,
   "id": "Hbol",
   "metadata": {
    "marimo": {
     "config": {
      "hide_code": true
     }
    }
   },
   "outputs": [],
   "source": [
    "import marimo as mo\n",
    "import pandas as pd\n",
    "import matplotlib.pyplot as plt\n",
    "import numpy as np\n",
    "import seaborn as sns\n",
    "\n",
    "plt.style.use(\"seaborn-v0_8-whitegrid\")"
   ]
  },
  {
   "cell_type": "markdown",
   "id": "MJUe",
   "metadata": {
    "marimo": {
     "config": {
      "hide_code": true
     }
    }
   },
   "source": [
    "# Material Selection for Ship Rudders"
   ]
  },
  {
   "cell_type": "markdown",
   "id": "vblA",
   "metadata": {
    "marimo": {
     "config": {
      "hide_code": true
     }
    }
   },
   "source": [
    "Abdullah al Azmi (220011230), ME 4325, Material Engineering\n",
    "Department of Mechanical and Production Engineering, Islamic University of Technology,\n",
    "Gazipur 1704, Bangladesh\n",
    "\n",
    "Ship rudders must balance mechanical performance, corrosion resistance, and sustainability in\n",
    "harsh marine environments. This paper applies Ashby's method to evaluate candidate materials\n",
    "using performance indices, trade-offs, and lifecycle considerations. Digital Ashby charts and\n",
    "property tables support the analysis."
   ]
  }
 ],
 "metadata": {},
 "nbformat": 4,
 "nbformat_minor": 5
}
