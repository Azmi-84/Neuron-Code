{
 "cells": [
  {
   "cell_type": "code",
   "execution_count": null,
   "id": "Hbol",
   "metadata": {
    "marimo": {
     "config": {
      "hide_code": true
     }
    }
   },
   "outputs": [],
   "source": [
    "# Sin Wave Generator Using Recurrent Neural Networkmo.md(r\"\"\"# Sin Wave Generator Using Recurrent Neural Network\"\"\")mo.md(r\"\"\"# Recurrent Neural Networks (RNN)\"\"\")"
   ]
  },
  {
   "cell_type": "code",
   "execution_count": null,
   "id": "MJUe",
   "metadata": {},
   "outputs": [],
   "source": [
    "import marimo as mo\n",
    "import numpy as np\n",
    "import pandas as pd\n",
    "import matplotlib.pyplot as plt\n",
    "import math"
   ]
  },
  {
   "cell_type": "markdown",
   "id": "vblA",
   "metadata": {
    "marimo": {
     "config": {
      "hide_code": true
     }
    }
   },
   "source": [
    "# Data Exploration"
   ]
  },
  {
   "cell_type": "code",
   "execution_count": null,
   "id": "bkHC",
   "metadata": {},
   "outputs": [
    {
     "name": "stderr",
     "output_type": "stream",
     "text": [
      "<span class=\"codehilite\"><div class=\"highlight\"><pre><span></span><span class=\"gt\">Traceback (most recent call last):</span>\n",
      "  File <span class=\"nb\">&quot;/home/abdullahalazmi/.local/lib/python3.13/site-packages/marimo/_runtime/executor.py&quot;</span>, line <span class=\"m\">141</span>, in <span class=\"n\">execute_cell</span>\n",
      "<span class=\"w\">    </span><span class=\"n\">exec</span><span class=\"p\">(</span><span class=\"n\">cell</span><span class=\"o\">.</span><span class=\"n\">body</span><span class=\"p\">,</span> <span class=\"n\">glbls</span><span class=\"p\">)</span>\n",
      "<span class=\"w\">    </span><span class=\"pm\">~~~~^^^^^^^^^^^^^^^^^^</span>\n",
      "  File <span class=\"nb\">&quot;/tmp/marimo_64273/__marimo__cell_bkHC_.py&quot;</span>, line <span class=\"m\">1</span>, in <span class=\"n\">&lt;module&gt;</span>\n",
      "<span class=\"w\">    </span><span class=\"n\">df</span> <span class=\"o\">=</span> <span class=\"n\">pd</span><span class=\"o\">.</span><span class=\"n\">read_csv</span><span class=\"p\">(</span><span class=\"s2\">&quot;Sin Wave Data Generator.csv&quot;</span><span class=\"p\">,</span> <span class=\"n\">delimiter</span><span class=\"o\">=</span><span class=\"s2\">&quot;,&quot;</span><span class=\"p\">,</span> <span class=\"n\">nrows</span><span class=\"o\">=</span><span class=\"mi\">600</span><span class=\"p\">)</span>\n",
      "  File <span class=\"nb\">&quot;/home/abdullahalazmi/.local/lib/python3.13/site-packages/pandas/io/parsers/readers.py&quot;</span>, line <span class=\"m\">1026</span>, in <span class=\"n\">read_csv</span>\n",
      "<span class=\"w\">    </span><span class=\"k\">return</span> <span class=\"n\">_read</span><span class=\"p\">(</span><span class=\"n\">filepath_or_buffer</span><span class=\"p\">,</span> <span class=\"n\">kwds</span><span class=\"p\">)</span>\n",
      "  File <span class=\"nb\">&quot;/home/abdullahalazmi/.local/lib/python3.13/site-packages/pandas/io/parsers/readers.py&quot;</span>, line <span class=\"m\">620</span>, in <span class=\"n\">_read</span>\n",
      "<span class=\"w\">    </span><span class=\"n\">parser</span> <span class=\"o\">=</span> <span class=\"n\">TextFileReader</span><span class=\"p\">(</span><span class=\"n\">filepath_or_buffer</span><span class=\"p\">,</span> <span class=\"o\">**</span><span class=\"n\">kwds</span><span class=\"p\">)</span>\n",
      "  File <span class=\"nb\">&quot;/home/abdullahalazmi/.local/lib/python3.13/site-packages/pandas/io/parsers/readers.py&quot;</span>, line <span class=\"m\">1620</span>, in <span class=\"n\">__init__</span>\n",
      "<span class=\"w\">    </span><span class=\"bp\">self</span><span class=\"o\">.</span><span class=\"n\">_engine</span> <span class=\"o\">=</span> <span class=\"bp\">self</span><span class=\"o\">.</span><span class=\"n\">_make_engine</span><span class=\"p\">(</span><span class=\"n\">f</span><span class=\"p\">,</span> <span class=\"bp\">self</span><span class=\"o\">.</span><span class=\"n\">engine</span><span class=\"p\">)</span>\n",
      "<span class=\"w\">                   </span><span class=\"pm\">~~~~~~~~~~~~~~~~~^^^^^^^^^^^^^^^^</span>\n",
      "  File <span class=\"nb\">&quot;/home/abdullahalazmi/.local/lib/python3.13/site-packages/pandas/io/parsers/readers.py&quot;</span>, line <span class=\"m\">1880</span>, in <span class=\"n\">_make_engine</span>\n",
      "<span class=\"w\">    </span><span class=\"bp\">self</span><span class=\"o\">.</span><span class=\"n\">handles</span> <span class=\"o\">=</span> <span class=\"n\">get_handle</span><span class=\"p\">(</span>\n",
      "<span class=\"w\">                   </span><span class=\"pm\">~~~~~~~~~~^</span>\n",
      "<span class=\"w\">    </span>    <span class=\"n\">f</span><span class=\"p\">,</span>\n",
      "<span class=\"w\">        </span><span class=\"pm\">^^</span>\n",
      "<span class=\"w\">    </span><span class=\"o\">...&lt;</span><span class=\"mi\">6</span> <span class=\"n\">lines</span><span class=\"o\">&gt;...</span>\n",
      "<span class=\"w\">    </span>    <span class=\"n\">storage_options</span><span class=\"o\">=</span><span class=\"bp\">self</span><span class=\"o\">.</span><span class=\"n\">options</span><span class=\"o\">.</span><span class=\"n\">get</span><span class=\"p\">(</span><span class=\"s2\">&quot;storage_options&quot;</span><span class=\"p\">,</span> <span class=\"kc\">None</span><span class=\"p\">),</span>\n",
      "<span class=\"w\">        </span><span class=\"pm\">^^^^^^^^^^^^^^^^^^^^^^^^^^^^^^^^^^^^^^^^^^^^^^^^^^^^^^^^^^</span>\n",
      "<span class=\"w\">    </span><span class=\"p\">)</span>\n",
      "<span class=\"w\">    </span><span class=\"pm\">^</span>\n",
      "  File <span class=\"nb\">&quot;/home/abdullahalazmi/.local/lib/python3.13/site-packages/pandas/io/common.py&quot;</span>, line <span class=\"m\">873</span>, in <span class=\"n\">get_handle</span>\n",
      "<span class=\"w\">    </span><span class=\"n\">handle</span> <span class=\"o\">=</span> <span class=\"nb\">open</span><span class=\"p\">(</span>\n",
      "<span class=\"w\">    </span>    <span class=\"n\">handle</span><span class=\"p\">,</span>\n",
      "<span class=\"w\">    </span><span class=\"o\">...&lt;</span><span class=\"mi\">3</span> <span class=\"n\">lines</span><span class=\"o\">&gt;...</span>\n",
      "<span class=\"w\">    </span>    <span class=\"n\">newline</span><span class=\"o\">=</span><span class=\"s2\">&quot;&quot;</span><span class=\"p\">,</span>\n",
      "<span class=\"w\">    </span><span class=\"p\">)</span>\n",
      "<span class=\"gr\">FileNotFoundError</span>: <span class=\"n\">[Errno 2] No such file or directory: &#39;Sin Wave Data Generator.csv&#39;</span>\n",
      "</pre></div>\n",
      "</span>"
     ]
    }
   ],
   "source": [
    "df = pd.read_csv(\"Sin Wave Data Generator.csv\", delimiter=\",\", nrows=600)\n",
    "df.head()"
   ]
  },
  {
   "cell_type": "code",
   "execution_count": null,
   "id": "lEQa",
   "metadata": {},
   "outputs": [],
   "source": [
    "plt.plot(df)\n",
    "plt.xlabel(\"Angle\")\n",
    "plt.ylabel(\"Sine Value\")"
   ]
  },
  {
   "cell_type": "code",
   "execution_count": null,
   "id": "PKri",
   "metadata": {},
   "outputs": [],
   "source": [
    "# The .reshape(len(df)) operation reshapes the NumPy array into a 1-dimensional array with a length equal to the number of rows in the original DataFrame.\n",
    "sine_wave = (df.to_numpy()).reshape(len(df))\n",
    "sine_wave"
   ]
  },
  {
   "cell_type": "markdown",
   "id": "Xref",
   "metadata": {
    "marimo": {
     "config": {
      "hide_code": true
     }
    }
   },
   "source": [
    "# Split the Data into Training and Testing Sets"
   ]
  },
  {
   "cell_type": "markdown",
   "id": "SFPL",
   "metadata": {
    "marimo": {
     "config": {
      "hide_code": true
     }
    }
   },
   "source": [
    "### This `(get_sequence_data)` function is used to create sequences of data from given DataFrame `(df)`. It generates input-output pairs `(X and Y)` where `X` contains sequences of a specified length `(seq_len)` and `Y` contains the next value in the sequence."
   ]
  },
  {
   "cell_type": "code",
   "execution_count": null,
   "id": "BYtC",
   "metadata": {},
   "outputs": [],
   "source": [
    "def get_sequence_data(df, seq_len):\n",
    "    if len(df) <= seq_len:\n",
    "        raise ValueError(\"Length of df must be greater than seq_len.\")\n",
    "\n",
    "    X, Y = [], []\n",
    "    nr_records = len(df) - seq_len\n",
    "\n",
    "    for i in range(nr_records):\n",
    "        X.append(df[i : i + seq_len])\n",
    "        Y.append(df[i + seq_len])\n",
    "\n",
    "    return np.array(X), np.array(Y)"
   ]
  },
  {
   "cell_type": "code",
   "execution_count": null,
   "id": "RGSE",
   "metadata": {},
   "outputs": [],
   "source": [
    "def get_test_data(df, seq_len, len_test):\n",
    "    if len(df) <= seq_len + len_test:\n",
    "        raise ValueError(\"Length of df must be greater than seq_len + len_test.\")\n",
    "\n",
    "    X, Y = [], []\n",
    "    nr_records = len(df) - seq_len\n",
    "\n",
    "    for i in range(nr_records - len_test, nr_records):\n",
    "        X.append(df[i : i + seq_len])\n",
    "        Y.append(df[i + seq_len])\n",
    "\n",
    "    return np.array(X), np.array(Y)"
   ]
  },
  {
   "cell_type": "code",
   "execution_count": null,
   "id": "Kclp",
   "metadata": {},
   "outputs": [],
   "source": [
    "def list_to_array(X, Y):\n",
    "    X = np.array(X)\n",
    "    Y = np.array(Y)\n",
    "\n",
    "    X = np.array(X)\n",
    "    X = np.expand_dims(X, axis=2)\n",
    "\n",
    "    Y = np.array(Y)\n",
    "    Y = np.expand_dims(Y, axis=1)\n",
    "\n",
    "    return X, Y"
   ]
  },
  {
   "cell_type": "code",
   "execution_count": null,
   "id": "emfo",
   "metadata": {},
   "outputs": [],
   "source": [
    "seq_len = T = 100\n",
    "len_test = 100"
   ]
  },
  {
   "cell_type": "code",
   "execution_count": null,
   "id": "Hstk",
   "metadata": {},
   "outputs": [],
   "source": [
    "X_train, Y_train = get_sequence_data(sine_wave[: len(sine_wave)], seq_len)\n",
    "X_train, Y_train = list_to_array(X_train, Y_train)\n",
    "X_test, Y_test = get_test_data(sine_wave[: len(sine_wave)], seq_len, len_test)\n",
    "X_test, Y_test = list_to_array(X_test, Y_test)"
   ]
  },
  {
   "cell_type": "code",
   "execution_count": null,
   "id": "nWHF",
   "metadata": {},
   "outputs": [],
   "source": [
    "len_data = X_train.shape[0]\n",
    "len_data"
   ]
  },
  {
   "cell_type": "code",
   "execution_count": null,
   "id": "iLit",
   "metadata": {},
   "outputs": [],
   "source": [
    "X_train.shape, Y_train.shape, X_test.shape, Y_test.shape"
   ]
  },
  {
   "cell_type": "markdown",
   "id": "ZHCJ",
   "metadata": {
    "marimo": {
     "config": {
      "hide_code": true
     }
    }
   },
   "source": [
    "# Implementation"
   ]
  },
  {
   "cell_type": "code",
   "execution_count": null,
   "id": "ROlb",
   "metadata": {},
   "outputs": [],
   "source": [
    "# Activation function\n",
    "\n",
    "def sigmoid(x):\n",
    "    return 1 / (1 + np.exp(-x))"
   ]
  },
  {
   "cell_type": "code",
   "execution_count": null,
   "id": "qnkX",
   "metadata": {},
   "outputs": [],
   "source": [
    "# Forward Function\n",
    "\n",
    "def forward(x, y, prev_s):\n",
    "    layers = []\n",
    "\n",
    "    for t in range(T):\n",
    "        new_input = np.zeros(x.shape)\n",
    "        new_input[t] = x[t]\n",
    "\n",
    "        m = np.dot(U, new_input)\n",
    "        n = np.dot(W, prev_s)\n",
    "\n",
    "        o = n + m\n",
    "\n",
    "        s = sigmoid(o)\n",
    "        p = np.dot(V, s)\n",
    "\n",
    "        layers.append({\"s\": s, \"prev_s\": prev_s})\n",
    "        prev_s = s\n",
    "\n",
    "    return (m, n, o, s, p), layers"
   ]
  },
  {
   "cell_type": "markdown",
   "id": "TqIu",
   "metadata": {
    "marimo": {
     "config": {
      "hide_code": true
     }
    }
   },
   "source": [
    "# Clip Min-Max Function"
   ]
  },
  {
   "cell_type": "code",
   "execution_count": null,
   "id": "Vxnm",
   "metadata": {},
   "outputs": [],
   "source": [
    "def clip_min_max(dU, dV, dW):\n",
    "    if dU.max() > max_clip_value:\n",
    "        dU[dU > max_clip_value] = max_clip_value\n",
    "    if dV.max() > max_clip_value:\n",
    "        dV[dV > max_clip_value] = max_clip_value\n",
    "    if dW.max() > max_clip_value:\n",
    "        dW[dW > max_clip_value] = max_clip_value\n",
    "\n",
    "    if dU.min() < min_clip_value:\n",
    "        dU[dU < min_clip_value] = min_clip_value\n",
    "    if dV.min() < min_clip_value:\n",
    "        dV[dV < min_clip_value] = min_clip_value\n",
    "    if dW.min() < min_clip_value:\n",
    "        dW[dW < min_clip_value] = min_clip_value\n",
    "\n",
    "    return dU, dV, dW"
   ]
  },
  {
   "cell_type": "markdown",
   "id": "DnEU",
   "metadata": {
    "marimo": {
     "config": {
      "hide_code": true
     }
    }
   },
   "source": [
    "# Backward Function"
   ]
  },
  {
   "cell_type": "code",
   "execution_count": null,
   "id": "ulZA",
   "metadata": {},
   "outputs": [],
   "source": [
    "def backward(alpha, y, layers):\n",
    "    m, n, o, s, p = alpha\n",
    "\n",
    "    dU = np.zeros(U.shape)\n",
    "    dV = np.zeros(V.shape)\n",
    "    dW = np.zeros(W.shape)\n",
    "\n",
    "    dU_t = np.zeros(U.shape)\n",
    "    dV_t = np.zeros(V.shape)\n",
    "    dW_t = np.zeros(W.shape)\n",
    "\n",
    "    dU_i = np.zeros(U.shape)\n",
    "    dW_i = np.zeros(W.shape)\n",
    "\n",
    "    dp = p - y\n",
    "\n",
    "    for t in range(T):\n",
    "        dV_t = np.dot(dp, np.transpose(layers[t][\"s\"]))\n",
    "        dsv = np.dot(np.transpose(V), dp)\n",
    "\n",
    "        ds = dsv\n",
    "        do = sigmoid(o) * (1 - sigmoid(o)) * ds\n",
    "        dn = do * np.ones_like(n)\n",
    "\n",
    "        dprev_s = np.dot(np.transpose(W), dn)\n",
    "\n",
    "        for j in range(t - 1, max(-1, t - bptt_truncate - 1), -1):\n",
    "            dV_i = np.dot(dp, np.transpose(layers[j][\"s\"]))\n",
    "\n",
    "            ds = dsv + dprev_s\n",
    "            do = sigmoid(o) * (1 - sigmoid(o)) * ds\n",
    "\n",
    "            dn = do * np.ones_like(n)\n",
    "            dm = do * np.ones_like(m)\n",
    "\n",
    "            dW_i = np.dot(W, layers[t][\"prev_s\"])\n",
    "            dprev_s = np.dot(np.transpose(W), dn)\n",
    "\n",
    "            new_input = np.zeros(x.shape)\n",
    "            new_input[t] = x[t]\n",
    "            dU_i = np.dot(U, new_input)\n",
    "            dx = np.dot(np.transpose(U), dm)\n",
    "\n",
    "            dU_t += dU_i\n",
    "            dV_t += dV_i\n",
    "            dW_t += dW_i\n",
    "\n",
    "        dU += dU_t\n",
    "        dV += dV_t\n",
    "        dW += dW_t\n",
    "\n",
    "    return clip_min_max(dU, dV, dW)"
   ]
  },
  {
   "cell_type": "markdown",
   "id": "ecfG",
   "metadata": {
    "marimo": {
     "config": {
      "hide_code": true
     }
    }
   },
   "source": [
    "# Optimize Function"
   ]
  },
  {
   "cell_type": "code",
   "execution_count": null,
   "id": "Pvdt",
   "metadata": {},
   "outputs": [],
   "source": [
    "def optimize(alpha, grads):\n",
    "    dU, dV, dW = grads\n",
    "    U, V, W = alpha\n",
    "\n",
    "    U -= learning_rate * dU\n",
    "    V -= learning_rate * dV\n",
    "    W -= learning_rate * dW\n",
    "\n",
    "    return U, V, W"
   ]
  },
  {
   "cell_type": "markdown",
   "id": "ZBYS",
   "metadata": {
    "marimo": {
     "config": {
      "hide_code": true
     }
    }
   },
   "source": [
    "# Loss Function"
   ]
  },
  {
   "cell_type": "code",
   "execution_count": null,
   "id": "aLJB",
   "metadata": {},
   "outputs": [],
   "source": [
    "def loss_fn(alpha, y):\n",
    "    m, n, o, s, p = alpha\n",
    "\n",
    "    return (y - p) ** 2 / 2"
   ]
  },
  {
   "cell_type": "code",
   "execution_count": null,
   "id": "nHfw",
   "metadata": {},
   "outputs": [],
   "source": [
    "def val_loss_fn(alpha):\n",
    "    m, n, o, s, p = alpha\n",
    "    val_loss = 0.0\n",
    "\n",
    "    for i in range(y_test.shape[0]):\n",
    "        x, y = X_test[i], y_test[i]\n",
    "        prev_s = np.zeros((hidden_dim, 1))\n",
    "        alpha = forward(x, y, prev_s)\n",
    "\n",
    "        loss_per_record = (y - p) ** 2 / 2\n",
    "        val_loss += loss_per_record\n",
    "    return val_loss / float(len_data)"
   ]
  },
  {
   "cell_type": "markdown",
   "id": "xXTn",
   "metadata": {
    "marimo": {
     "config": {
      "hide_code": true
     }
    }
   },
   "source": [
    "# Training"
   ]
  },
  {
   "cell_type": "code",
   "execution_count": null,
   "id": "AjVT",
   "metadata": {},
   "outputs": [],
   "source": [
    "# Parameters\n",
    "\n",
    "learning_rate = 0.0001\n",
    "epochs = 16\n",
    "bptt_truncate = 4\n",
    "min_clip_value = -1\n",
    "max_clip_value = 1\n",
    "hidden_dim = 100\n",
    "output_dim = 1"
   ]
  },
  {
   "cell_type": "code",
   "execution_count": null,
   "id": "pHFh",
   "metadata": {},
   "outputs": [],
   "source": [
    "np.random.seed(345)\n",
    "U = np.random.uniform(0, 1, (hidden_dim, T))\n",
    "W = np.random.uniform(0, 1, (hidden_dim, hidden_dim))\n",
    "V = np.random.uniform(0, 1, (output_dim, hidden_dim))"
   ]
  },
  {
   "cell_type": "code",
   "execution_count": null,
   "id": "NCOB",
   "metadata": {},
   "outputs": [],
   "source": [
    "def train_model(\n",
    "    X_train,\n",
    "    Y_train,\n",
    "    X_val,\n",
    "    Y_val,\n",
    "    U,\n",
    "    V,\n",
    "    W,\n",
    "    hidden_dim,\n",
    "    epochs,\n",
    "    forward,\n",
    "    loss_fn,\n",
    "    backward,\n",
    "    optimize,\n",
    "    val_loss_fn,\n",
    "):\n",
    "    for epoch in range(epochs):\n",
    "        # Initialize epoch loss\n",
    "        train_loss = 0.0\n",
    "\n",
    "        # Training loop\n",
    "        for i in range(len(X_train)):\n",
    "            X, Y = X_train[i], Y_train[i]\n",
    "            prev_s = np.zeros((hidden_dim, 1))  # Initialize hidden state\n",
    "\n",
    "            # Forward pass\n",
    "            alpha, layers = forward(X, Y, prev_s)\n",
    "\n",
    "            # Compute loss\n",
    "            train_loss += loss_fn(alpha, Y)\n",
    "\n",
    "            # Backward pass\n",
    "            grads = backward(alpha, Y, layers)\n",
    "\n",
    "            # Update parameters\n",
    "            U, V, W = optimize((U, V, W), grads)\n",
    "\n",
    "        # Average training loss\n",
    "        train_loss /= len(X_train)\n",
    "\n",
    "        # Validation loss (every 2 epochs)\n",
    "        if (epoch + 1) % 2 == 0:\n",
    "            val_loss = 0.0\n",
    "            for i in range(len(X_val)):\n",
    "                X, Y = X_val[i], Y_val[i]\n",
    "                prev_s = np.zeros((hidden_dim, 1))  # Initialize hidden state\n",
    "                alpha, _ = forward(X, Y, prev_s)\n",
    "                val_loss += val_loss_fn(alpha, Y)\n",
    "            val_loss /= len(X_val)\n",
    "        else:\n",
    "            val_loss = None\n",
    "\n",
    "        # Print progress\n",
    "        if val_loss is not None:\n",
    "            print(\n",
    "                f\"Epoch:{epoch + 1:3d}, Train Loss:{train_loss:12.4f}, Val Loss:{val_loss:12.4f}\"\n",
    "            )\n",
    "        else:\n",
    "            print(f\"Epoch:{epoch + 1:3d}, Train Loss:{train_loss:12.4f}\")\n",
    "\n",
    "    return U, V, W"
   ]
  },
  {
   "cell_type": "markdown",
   "id": "aqbW",
   "metadata": {
    "marimo": {
     "config": {
      "hide_code": true
     }
    }
   },
   "source": [
    "# Analyze Results"
   ]
  },
  {
   "cell_type": "code",
   "execution_count": null,
   "id": "TRpd",
   "metadata": {},
   "outputs": [],
   "source": [
    "def predict(X_test, U, V, W, hidden_dim, T, sigmoid):\n",
    "    preds = []\n",
    "    for i in range(X_test.shape[0]):\n",
    "        x = X_test[i]  # Input sequence for the i-th test example\n",
    "        prev_s = np.zeros((hidden_dim, 1))  # Initialize hidden state\n",
    "\n",
    "        # Forward pass through the sequence\n",
    "        for t in range(T):\n",
    "            mulu = np.dot(U, x[t].reshape(-1, 1))  # Input contribution\n",
    "            mulw = np.dot(W, prev_s)  # Hidden state contribution\n",
    "            add = mulw + mulu  # Pre-activation\n",
    "            s = sigmoid(add)  # Current hidden state\n",
    "            mulv = np.dot(V, s)  # Output\n",
    "            prev_s = s  # Update hidden state\n",
    "\n",
    "        preds.append(mulv)  # Store final output\n",
    "\n",
    "    # Concatenate and squeeze predictions\n",
    "    preds = np.concatenate(preds, axis=1).squeeze()\n",
    "    return preds"
   ]
  },
  {
   "cell_type": "code",
   "execution_count": null,
   "id": "TXez",
   "metadata": {},
   "outputs": [
    {
     "name": "stderr",
     "output_type": "stream",
     "text": [
      "<span class=\"codehilite\"><div class=\"highlight\"><pre><span></span><span class=\"gt\">Traceback (most recent call last):</span>\n",
      "  File <span class=\"nb\">&quot;/home/abdullahalazmi/.local/lib/python3.13/site-packages/marimo/_runtime/executor.py&quot;</span>, line <span class=\"m\">141</span>, in <span class=\"n\">execute_cell</span>\n",
      "<span class=\"w\">    </span><span class=\"n\">exec</span><span class=\"p\">(</span><span class=\"n\">cell</span><span class=\"o\">.</span><span class=\"n\">body</span><span class=\"p\">,</span> <span class=\"n\">glbls</span><span class=\"p\">)</span>\n",
      "<span class=\"w\">    </span><span class=\"pm\">~~~~^^^^^^^^^^^^^^^^^^</span>\n",
      "  File <span class=\"nb\">&quot;/tmp/marimo_64273/__marimo__cell_TXez_.py&quot;</span>, line <span class=\"m\">4</span>, in <span class=\"n\">&lt;module&gt;</span>\n",
      "<span class=\"w\">    </span><span class=\"n\">preds</span><span class=\"p\">,</span> <span class=\"s2\">&quot;b-o&quot;</span><span class=\"p\">,</span> <span class=\"n\">label</span><span class=\"o\">=</span><span class=\"s2\">&quot;Predicted&quot;</span><span class=\"p\">,</span> <span class=\"n\">markersize</span><span class=\"o\">=</span><span class=\"mi\">5</span>\n",
      "<span class=\"w\">    </span><span class=\"pm\">^^^^^</span>\n",
      "<span class=\"gr\">NameError</span>: <span class=\"n\">name &#39;preds&#39; is not defined</span>\n",
      "</pre></div>\n",
      "</span>"
     ]
    }
   ],
   "source": [
    "# Create plot\n",
    "plt.figure(figsize=(12, 8))\n",
    "plt.plot(\n",
    "    preds, \"b-o\", label=\"Predicted\", markersize=5\n",
    ")  # Blue solid line with circles\n",
    "plt.plot(\n",
    "    y_test.squeeze(), \"r--s\", label=\"Expected\", markersize=5\n",
    ")  # Red dashed line with squares\n",
    "plt.title(\"Predicted vs Expected Values\")\n",
    "plt.xlabel(\"Time Step\")\n",
    "plt.ylabel(\"Value\")\n",
    "plt.legend(loc=\"upper left\")\n",
    "plt.grid(True)\n",
    "plt.show()"
   ]
  }
 ],
 "metadata": {},
 "nbformat": 4,
 "nbformat_minor": 5
}
