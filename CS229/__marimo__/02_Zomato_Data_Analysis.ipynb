{
 "cells": [
  {
   "cell_type": "code",
   "execution_count": null,
   "id": "Hbol",
   "metadata": {},
   "outputs": [],
   "source": [
    "import matplotlib.pyplot as plt\n",
    "import numpy as np\n",
    "\n",
    "from sklearn import datasets, linear_model\n",
    "from sklearn.metrics import mean_squared_error, r2_score\n",
    "\n",
    "# Load the diabetes dataset\n",
    "diabetes_X, diabetes_y = datasets.load_diabetes(return_X_y=True)\n",
    "\n",
    "# Use only one feature\n",
    "diabetes_X = diabetes_X[:, np.newaxis, 2]\n",
    "\n",
    "# Split the data into training/testing sets\n",
    "diabetes_X_train = diabetes_X[:-20]\n",
    "diabetes_X_test = diabetes_X[-20:]\n",
    "\n",
    "# Split the targets into training/testing sets\n",
    "diabetes_y_train = diabetes_y[:-20]\n",
    "diabetes_y_test = diabetes_y[-20:]\n",
    "\n",
    "# Create linear regression object\n",
    "regr = linear_model.LinearRegression()\n",
    "\n",
    "# Train the model using the training sets\n",
    "regr.fit(diabetes_X_train, diabetes_y_train)\n",
    "\n",
    "# Make predictions using the testing set\n",
    "diabetes_y_pred = regr.predict(diabetes_X_test)\n",
    "\n",
    "# The coefficients\n",
    "print(\"Coefficients: \\n\", regr.coef_)\n",
    "# The mean squared error\n",
    "print(\n",
    "    \"Mean squared error: %.2f\"\n",
    "    % mean_squared_error(diabetes_y_test, diabetes_y_pred)\n",
    ")\n",
    "# The coefficient of determination: 1 is perfect prediction\n",
    "print(\n",
    "    \"Coefficient of determination: %.2f\"\n",
    "    % r2_score(diabetes_y_test, diabetes_y_pred)\n",
    ")\n",
    "\n",
    "# Plot outputs\n",
    "plt.scatter(diabetes_X_test, diabetes_y_test, color=\"black\")\n",
    "plt.plot(diabetes_X_test, diabetes_y_pred, color=\"blue\", linewidth=3)\n",
    "\n",
    "plt.xticks(())\n",
    "plt.yticks(())\n",
    "\n",
    "plt.show()  # Zomato Data Analysis using Python\n",
    "\n",
    "# Importing the required libraries\n",
    "\n",
    "import pandas as pd\n",
    "import numpy as np\n",
    "import matplotlib.pyplot as plt\n",
    "import seaborn as sns"
   ]
  },
  {
   "cell_type": "code",
   "execution_count": null,
   "id": "MJUe",
   "metadata": {},
   "outputs": [
    {
     "name": "stderr",
     "output_type": "stream",
     "text": [
      "<span class=\"codehilite\"><div class=\"highlight\"><pre><span></span><span class=\"gt\">Traceback (most recent call last):</span>\n",
      "  File <span class=\"nb\">&quot;/home/abdullahalazmi/.local/lib/python3.13/site-packages/marimo/_runtime/executor.py&quot;</span>, line <span class=\"m\">141</span>, in <span class=\"n\">execute_cell</span>\n",
      "<span class=\"w\">    </span><span class=\"n\">exec</span><span class=\"p\">(</span><span class=\"n\">cell</span><span class=\"o\">.</span><span class=\"n\">body</span><span class=\"p\">,</span> <span class=\"n\">glbls</span><span class=\"p\">)</span>\n",
      "<span class=\"w\">    </span><span class=\"pm\">~~~~^^^^^^^^^^^^^^^^^^</span>\n",
      "  File <span class=\"nb\">&quot;/tmp/marimo_62596/__marimo__cell_MJUe_.py&quot;</span>, line <span class=\"m\">1</span>, in <span class=\"n\">&lt;module&gt;</span>\n",
      "<span class=\"w\">    </span><span class=\"n\">df</span> <span class=\"o\">=</span> <span class=\"n\">pd</span><span class=\"o\">.</span><span class=\"n\">read_csv</span><span class=\"p\">(</span><span class=\"s2\">&quot;Zomato-data-.csv&quot;</span><span class=\"p\">)</span>\n",
      "  File <span class=\"nb\">&quot;/home/abdullahalazmi/.local/lib/python3.13/site-packages/pandas/io/parsers/readers.py&quot;</span>, line <span class=\"m\">1026</span>, in <span class=\"n\">read_csv</span>\n",
      "<span class=\"w\">    </span><span class=\"k\">return</span> <span class=\"n\">_read</span><span class=\"p\">(</span><span class=\"n\">filepath_or_buffer</span><span class=\"p\">,</span> <span class=\"n\">kwds</span><span class=\"p\">)</span>\n",
      "  File <span class=\"nb\">&quot;/home/abdullahalazmi/.local/lib/python3.13/site-packages/pandas/io/parsers/readers.py&quot;</span>, line <span class=\"m\">620</span>, in <span class=\"n\">_read</span>\n",
      "<span class=\"w\">    </span><span class=\"n\">parser</span> <span class=\"o\">=</span> <span class=\"n\">TextFileReader</span><span class=\"p\">(</span><span class=\"n\">filepath_or_buffer</span><span class=\"p\">,</span> <span class=\"o\">**</span><span class=\"n\">kwds</span><span class=\"p\">)</span>\n",
      "  File <span class=\"nb\">&quot;/home/abdullahalazmi/.local/lib/python3.13/site-packages/pandas/io/parsers/readers.py&quot;</span>, line <span class=\"m\">1620</span>, in <span class=\"n\">__init__</span>\n",
      "<span class=\"w\">    </span><span class=\"bp\">self</span><span class=\"o\">.</span><span class=\"n\">_engine</span> <span class=\"o\">=</span> <span class=\"bp\">self</span><span class=\"o\">.</span><span class=\"n\">_make_engine</span><span class=\"p\">(</span><span class=\"n\">f</span><span class=\"p\">,</span> <span class=\"bp\">self</span><span class=\"o\">.</span><span class=\"n\">engine</span><span class=\"p\">)</span>\n",
      "<span class=\"w\">                   </span><span class=\"pm\">~~~~~~~~~~~~~~~~~^^^^^^^^^^^^^^^^</span>\n",
      "  File <span class=\"nb\">&quot;/home/abdullahalazmi/.local/lib/python3.13/site-packages/pandas/io/parsers/readers.py&quot;</span>, line <span class=\"m\">1880</span>, in <span class=\"n\">_make_engine</span>\n",
      "<span class=\"w\">    </span><span class=\"bp\">self</span><span class=\"o\">.</span><span class=\"n\">handles</span> <span class=\"o\">=</span> <span class=\"n\">get_handle</span><span class=\"p\">(</span>\n",
      "<span class=\"w\">                   </span><span class=\"pm\">~~~~~~~~~~^</span>\n",
      "<span class=\"w\">    </span>    <span class=\"n\">f</span><span class=\"p\">,</span>\n",
      "<span class=\"w\">        </span><span class=\"pm\">^^</span>\n",
      "<span class=\"w\">    </span><span class=\"o\">...&lt;</span><span class=\"mi\">6</span> <span class=\"n\">lines</span><span class=\"o\">&gt;...</span>\n",
      "<span class=\"w\">    </span>    <span class=\"n\">storage_options</span><span class=\"o\">=</span><span class=\"bp\">self</span><span class=\"o\">.</span><span class=\"n\">options</span><span class=\"o\">.</span><span class=\"n\">get</span><span class=\"p\">(</span><span class=\"s2\">&quot;storage_options&quot;</span><span class=\"p\">,</span> <span class=\"kc\">None</span><span class=\"p\">),</span>\n",
      "<span class=\"w\">        </span><span class=\"pm\">^^^^^^^^^^^^^^^^^^^^^^^^^^^^^^^^^^^^^^^^^^^^^^^^^^^^^^^^^^</span>\n",
      "<span class=\"w\">    </span><span class=\"p\">)</span>\n",
      "<span class=\"w\">    </span><span class=\"pm\">^</span>\n",
      "  File <span class=\"nb\">&quot;/home/abdullahalazmi/.local/lib/python3.13/site-packages/pandas/io/common.py&quot;</span>, line <span class=\"m\">873</span>, in <span class=\"n\">get_handle</span>\n",
      "<span class=\"w\">    </span><span class=\"n\">handle</span> <span class=\"o\">=</span> <span class=\"nb\">open</span><span class=\"p\">(</span>\n",
      "<span class=\"w\">    </span>    <span class=\"n\">handle</span><span class=\"p\">,</span>\n",
      "<span class=\"w\">    </span><span class=\"o\">...&lt;</span><span class=\"mi\">3</span> <span class=\"n\">lines</span><span class=\"o\">&gt;...</span>\n",
      "<span class=\"w\">    </span>    <span class=\"n\">newline</span><span class=\"o\">=</span><span class=\"s2\">&quot;&quot;</span><span class=\"p\">,</span>\n",
      "<span class=\"w\">    </span><span class=\"p\">)</span>\n",
      "<span class=\"gr\">FileNotFoundError</span>: <span class=\"n\">[Errno 2] No such file or directory: &#39;Zomato-data-.csv&#39;</span>\n",
      "</pre></div>\n",
      "</span>"
     ]
    }
   ],
   "source": [
    "df = pd.read_csv(\"Zomato-data-.csv\")\n",
    "df.head()"
   ]
  },
  {
   "cell_type": "code",
   "execution_count": null,
   "id": "vblA",
   "metadata": {},
   "outputs": [],
   "source": [
    "def handleRate(value):\n",
    "    value = str(value).split(\"/\")[0]\n",
    "    return float(value)\n",
    "\n",
    "\n",
    "df[\"rate\"] = df[\"rate\"].apply(handleRate)\n",
    "df[\"rate\"].head()"
   ]
  },
  {
   "cell_type": "code",
   "execution_count": null,
   "id": "bkHC",
   "metadata": {},
   "outputs": [],
   "source": [
    "df.info()"
   ]
  },
  {
   "cell_type": "code",
   "execution_count": null,
   "id": "lEQa",
   "metadata": {},
   "outputs": [],
   "source": [
    "df.isnull().sum()"
   ]
  },
  {
   "cell_type": "code",
   "execution_count": null,
   "id": "PKri",
   "metadata": {},
   "outputs": [],
   "source": [
    "df.describe()"
   ]
  },
  {
   "cell_type": "code",
   "execution_count": null,
   "id": "Xref",
   "metadata": {},
   "outputs": [],
   "source": [
    "sns.histplot(df[\"listed_in(type)\"])\n",
    "plt.xlabel(\"Type of Restaurant\")"
   ]
  },
  {
   "cell_type": "code",
   "execution_count": null,
   "id": "SFPL",
   "metadata": {},
   "outputs": [],
   "source": [
    "grouped_data = df.groupby(\"listed_in(type)\")[\"votes\"].sum()\n",
    "result = pd.DataFrame(\n",
    "    {\"Type\": grouped_data.index, \"Votes\": grouped_data.values}\n",
    ")\n",
    "sns.barplot(x=\"Type\", y=\"Votes\", data=result)\n",
    "plt.xlabel(\"Type of Restaurant\")"
   ]
  },
  {
   "cell_type": "code",
   "execution_count": null,
   "id": "BYtC",
   "metadata": {},
   "outputs": [],
   "source": [
    "max_votes = result[\"Votes\"].max()\n",
    "result[result[\"Votes\"] == max_votes]"
   ]
  },
  {
   "cell_type": "code",
   "execution_count": null,
   "id": "RGSE",
   "metadata": {},
   "outputs": [],
   "source": [
    "sns.countplot(df[\"online_order\"], palette=\"viridis\")"
   ]
  },
  {
   "cell_type": "code",
   "execution_count": null,
   "id": "Kclp",
   "metadata": {},
   "outputs": [],
   "source": [
    "sns.countplot(df[\"book_table\"], palette=\"viridis\")"
   ]
  },
  {
   "cell_type": "code",
   "execution_count": null,
   "id": "emfo",
   "metadata": {},
   "outputs": [],
   "source": [
    "sns.histplot(df[\"rate\"], kde=True)"
   ]
  },
  {
   "cell_type": "code",
   "execution_count": null,
   "id": "Hstk",
   "metadata": {},
   "outputs": [],
   "source": [
    "sns.histplot(df[\"approx_cost(for two people)\"], kde=True)"
   ]
  },
  {
   "cell_type": "code",
   "execution_count": null,
   "id": "nWHF",
   "metadata": {},
   "outputs": [],
   "source": [
    "plt.figure(figsize=(6, 6))\n",
    "sns.boxenplot(x=\"online_order\", y=\"rate\", data=df)"
   ]
  }
 ],
 "metadata": {},
 "nbformat": 4,
 "nbformat_minor": 5
}
