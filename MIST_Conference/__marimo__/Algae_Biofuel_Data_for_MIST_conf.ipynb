{
 "cells": [
  {
   "cell_type": "code",
   "execution_count": null,
   "id": "Hbol",
   "metadata": {
    "marimo": {
     "config": {
      "hide_code": true
     }
    }
   },
   "outputs": [
    {
     "data": {
      "text/html": [
       "<pre style='font-size: 12px'>&lt;bound method Html.center of Html()&gt;</pre>"
      ]
     },
     "metadata": {},
     "output_type": "display_data"
    }
   ],
   "source": [
    "mo.image(src=\"\").center"
   ]
  },
  {
   "cell_type": "code",
   "execution_count": null,
   "id": "MJUe",
   "metadata": {},
   "outputs": [],
   "source": [
    "import marimo as mo"
   ]
  },
  {
   "cell_type": "markdown",
   "id": "vblA",
   "metadata": {
    "marimo": {
     "config": {
      "hide_code": true
     }
    }
   },
   "source": [
    "<div class=\"text-center\">\n",
    "    <h2>Development and Optimization of Algae-Based Biofuel Systems for Carbon-Negative Energy Production</h2>\n",
    "</div>"
   ]
  },
  {
   "cell_type": "markdown",
   "id": "bkHC",
   "metadata": {
    "marimo": {
     "config": {
      "hide_code": true
     }
    }
   },
   "source": [
    "<div class=\"text-center\">\n",
    "    <h2>Analysis of Algae Biofuel Data</h2>\n",
    "</div>"
   ]
  },
  {
   "cell_type": "markdown",
   "id": "lEQa",
   "metadata": {
    "marimo": {
     "config": {
      "hide_code": true
     }
    }
   },
   "source": [
    "## Formulae to Analyses the Data\n",
    "\n",
    "<div class=\"\">\n",
    "    <ol type=\"1\">\n",
    "        <li>Biomass Productivity Analysis</li>\n",
    "        <ul>\n",
    "            <li>Biomass Productivity</li>\n",
    "        </ul>\n",
    "        <li>Lipid Yield and Extraction Efficiency</li>\n",
    "        <li>Carbon Sequestration Analysis</li>\n",
    "        <li>Life Cycle Assesment</li>\n",
    "    </ol>\n",
    "</div>"
   ]
  },
  {
   "cell_type": "markdown",
   "id": "PKri",
   "metadata": {
    "marimo": {
     "config": {
      "hide_code": true
     }
    }
   },
   "source": [
    "## 1. Biomass Productivity Analysis\n",
    "\n",
    "### Specific Growth Rate\n",
    "\n",
    "\\[\n",
    "\\mu = \\frac{\\ln(x_t) - \\ln(x_o)}{t}\n",
    "\\]\n",
    "\n",
    "#### Where:\n",
    "\n",
    "- \\( x_o \\) = Initial Biomass Concentration (g/L)\n",
    "- \\( x_t \\) = Final Biomass Concentration (g/L)\n",
    "- \\( t \\) = Time (days)\n",
    "\n",
    "## 1.1 Biomass Productivity\n",
    "\n",
    "\\[\n",
    "P_b = \\frac{x_t - x_o}{t}\n",
    "\\]"
   ]
  },
  {
   "cell_type": "markdown",
   "id": "Xref",
   "metadata": {
    "marimo": {
     "config": {
      "hide_code": true
     }
    }
   },
   "source": [
    "## 2. Lipid Yield and Extraction Efficiency\n",
    "\n",
    "### Lipid Context\n",
    "\n",
    "\\[\n",
    "L_c = \\frac{M_L}{M_B} \\times 100\n",
    "\\]\n",
    "\n",
    "#### Where:\n",
    "\n",
    "- \\( M_L \\) = Mass of extracted lipids (g)\n",
    "- \\( M_B \\) = Mass of dired biomass (g)\n",
    "\n",
    "### Lipid Productivity\n",
    "\n",
    "\\[\n",
    "P_C = P_B \\times \\frac{L_C}{100}\n",
    "\\]"
   ]
  },
  {
   "cell_type": "markdown",
   "id": "SFPL",
   "metadata": {
    "marimo": {
     "config": {
      "hide_code": true
     }
    }
   },
   "source": [
    "## 3. Carbon Sequestration Analysis\n",
    "\n",
    "### Carbon Fixation Efficiency\n",
    "\n",
    "\\[\n",
    "CEE = \\frac{C*B}{C*{CO_2}} \\times 100\n",
    "\\]\n",
    "\n",
    "#### Where:\n",
    "\n",
    "- \\( C_B \\) = Carbon content in algal biomass (g)\n",
    "- \\( C_{CO_2} \\) = Carbon dioxide supplied to the systems (g)\n",
    "\n",
    "### \\( C_{CO_2} \\) Sequestration per Biomass\n",
    "\n",
    "\\[\n",
    "S*{CO_2} = \\frac{{M_B}\\times{F_C}} {M*{CO_2}}\n",
    "\\]\n",
    "\n",
    "#### Where:\n",
    "\n",
    "- \\( F_C \\) = Fraction of Carbon in Algal Biomass (g)\n",
    "- \\( M_{CO_2} \\) = Molecular weight of Carbon Dioxide (g/mol)"
   ]
  },
  {
   "cell_type": "markdown",
   "id": "BYtC",
   "metadata": {
    "marimo": {
     "config": {
      "hide_code": true
     }
    }
   },
   "source": []
  },
  {
   "cell_type": "markdown",
   "id": "RGSE",
   "metadata": {
    "marimo": {
     "config": {
      "hide_code": true
     }
    }
   },
   "source": []
  },
  {
   "cell_type": "code",
   "execution_count": null,
   "id": "Kclp",
   "metadata": {
    "marimo": {
     "config": {
      "hide_code": true
     }
    }
   },
   "outputs": [],
   "source": []
  }
 ],
 "metadata": {},
 "nbformat": 4,
 "nbformat_minor": 5
}
