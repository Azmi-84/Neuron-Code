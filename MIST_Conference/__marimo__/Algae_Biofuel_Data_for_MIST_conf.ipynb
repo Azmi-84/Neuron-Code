{
 "cells": [
  {
   "cell_type": "code",
   "execution_count": null,
   "id": "Hbol",
   "metadata": {
    "marimo": {
     "config": {
      "hide_code": true
     }
    }
   },
   "outputs": [
    {
     "name": "stderr",
     "output_type": "stream",
     "text": [
      "<span class=\"codehilite\"><div class=\"highlight\"><pre><span></span><span class=\"gt\">Traceback (most recent call last):</span>\n",
      "  File <span class=\"nb\">&quot;/home/abdullahalazmi/Programming/Neuron_Code/.venv/lib/python3.13/site-packages/marimo/_runtime/executor.py&quot;</span>, line <span class=\"m\">142</span>, in <span class=\"n\">execute_cell</span>\n",
      "<span class=\"w\">    </span><span class=\"k\">return</span> <span class=\"nb\">eval</span><span class=\"p\">(</span><span class=\"n\">cell</span><span class=\"o\">.</span><span class=\"n\">last_expr</span><span class=\"p\">,</span> <span class=\"n\">glbls</span><span class=\"p\">)</span>\n",
      "  File <span class=\"nb\">&quot;/tmp/marimo_85695/__marimo__cell_Hbol_.py&quot;</span>, line <span class=\"m\">1</span>, in <span class=\"n\">&lt;module&gt;</span>\n",
      "<span class=\"w\">    </span><span class=\"n\">mo</span><span class=\"o\">.</span><span class=\"n\">image</span><span class=\"p\">(</span><span class=\"n\">src</span><span class=\"o\">=</span><span class=\"s2\">&quot;&quot;</span><span class=\"p\">)</span><span class=\"o\">.</span><span class=\"n\">center</span>\n",
      "<span class=\"w\">    </span><span class=\"pm\">^^</span>\n",
      "<span class=\"gr\">NameError</span>: <span class=\"n\">name &#39;mo&#39; is not defined</span>\n",
      "</pre></div>\n",
      "</span>"
     ]
    }
   ],
   "source": [
    "mo.image(src=\"\").center"
   ]
  },
  {
   "cell_type": "markdown",
   "id": "MJUe",
   "metadata": {
    "marimo": {
     "config": {
      "hide_code": true
     }
    }
   },
   "source": [
    "<div class=\"text-center\">\n",
    "    <h2>Development and Optimization of Algae-Based Biofuel Systems for Carbon-Negative Energy Production</h2>\n",
    "</div>"
   ]
  },
  {
   "cell_type": "markdown",
   "id": "vblA",
   "metadata": {
    "marimo": {
     "config": {
      "hide_code": true
     }
    }
   },
   "source": [
    "<div class=\"text-center\">\n",
    "    <h2>Analysis of Algae Biofuel Data</h2>\n",
    "</div>"
   ]
  },
  {
   "cell_type": "markdown",
   "id": "bkHC",
   "metadata": {
    "marimo": {
     "config": {
      "hide_code": true
     }
    }
   },
   "source": [
    "## Formulae to Analyses the Data\n",
    "\n",
    "<div class=\"\">\n",
    "    <ol type=\"1\">\n",
    "        <li>Biomass Productivity Analysis</li>\n",
    "        <ul>\n",
    "            <li>Biomass Productivity</li>\n",
    "        </ul>\n",
    "        <li>Lipid Yield and Extraction Efficiency</li>\n",
    "        <li>Carbon Sequestration Analysis</li>\n",
    "        <li>Life Cycle Assesment</li>\n",
    "    </ol>\n",
    "</div>"
   ]
  },
  {
   "cell_type": "markdown",
   "id": "lEQa",
   "metadata": {
    "marimo": {
     "config": {
      "hide_code": true
     }
    }
   },
   "source": [
    "## 1. Biomass Productivity Analysis\n",
    "\n",
    "### Specific Growth Rate\n",
    "\n",
    "\\[\n",
    "\\mu = \\frac{\\ln(x_t) - \\ln(x_o)}{t}\n",
    "\\]\n",
    "\n",
    "#### Where:\n",
    "\n",
    "- \\( x_o \\) = Initial Biomass Concentration (g/L)\n",
    "- \\( x_t \\) = Final Biomass Concentration (g/L)\n",
    "- \\( t \\) = Time (days)\n",
    "\n",
    "## 1.1 Biomass Productivity\n",
    "\n",
    "\\[\n",
    "P_b = \\frac{x_t - x_o}{t}\n",
    "\\]"
   ]
  },
  {
   "cell_type": "markdown",
   "id": "PKri",
   "metadata": {
    "marimo": {
     "config": {
      "hide_code": true
     }
    }
   },
   "source": [
    "## 2. Lipid Yield and Extraction Efficiency\n",
    "\n",
    "### Lipid Context\n",
    "\n",
    "\\[\n",
    "L_c = \\frac{M_L}{M_B} \\times 100\n",
    "\\]\n",
    "\n",
    "#### Where:\n",
    "\n",
    "- \\( M_L \\) = Mass of extracted lipids (g)\n",
    "- \\( M_B \\) = Mass of dired biomass (g)\n",
    "\n",
    "### Lipid Productivity\n",
    "\n",
    "\\[\n",
    "P_C = P_B \\times \\frac{L_C}{100}\n",
    "\\]"
   ]
  },
  {
   "cell_type": "markdown",
   "id": "Xref",
   "metadata": {
    "marimo": {
     "config": {
      "hide_code": true
     }
    }
   },
   "source": [
    "## 3. Carbon Sequestration Analysis\n",
    "\n",
    "### Carbon Fixation Efficiency\n",
    "\n",
    "\\[\n",
    "CEE = \\frac{C*B}{C*{CO_2}} \\times 100\n",
    "\\]\n",
    "\n",
    "#### Where:\n",
    "\n",
    "- \\( C_B \\) = Carbon content in algal biomass (g)\n",
    "- \\( C\\_{CO_2} \\) = Carbon dioxide supplied to the systems (g)\n",
    "\n",
    "### \\( C\\_{CO_2} \\) Sequestration per Biomass\n",
    "\n",
    "\\[\n",
    "S*{CO_2} = \\frac{{M_B}\\times{F_C}} {M*{CO_2}}\n",
    "\\]\n",
    "\n",
    "#### Where:\n",
    "\n",
    "- \\( F_C \\) = Fraction of Carbon in Algal Biomass (g)\n",
    "- \\( M\\_{CO_2} \\) = Molecular weight of Carbon Dioxide (g/mol)"
   ]
  },
  {
   "cell_type": "code",
   "execution_count": null,
   "id": "SFPL",
   "metadata": {},
   "outputs": [],
   "source": []
  },
  {
   "cell_type": "code",
   "execution_count": null,
   "id": "BYtC",
   "metadata": {},
   "outputs": [],
   "source": []
  },
  {
   "cell_type": "code",
   "execution_count": null,
   "id": "RGSE",
   "metadata": {},
   "outputs": [],
   "source": []
  },
  {
   "cell_type": "code",
   "execution_count": null,
   "id": "Kclp",
   "metadata": {},
   "outputs": [
    {
     "name": "stderr",
     "output_type": "stream",
     "text": [
      "<span class=\"codehilite\"><div class=\"highlight\"><pre><span></span><span class=\"gt\">Traceback (most recent call last):</span>\n",
      "  File <span class=\"nb\">&quot;/home/abdullahalazmi/Programming/Neuron_Code/.venv/lib/python3.13/site-packages/marimo/_runtime/executor.py&quot;</span>, line <span class=\"m\">141</span>, in <span class=\"n\">execute_cell</span>\n",
      "<span class=\"w\">    </span><span class=\"n\">exec</span><span class=\"p\">(</span><span class=\"n\">cell</span><span class=\"o\">.</span><span class=\"n\">body</span><span class=\"p\">,</span> <span class=\"n\">glbls</span><span class=\"p\">)</span>\n",
      "<span class=\"w\">    </span><span class=\"pm\">~~~~^^^^^^^^^^^^^^^^^^</span>\n",
      "  File <span class=\"nb\">&quot;/tmp/marimo_85695/__marimo__cell_Kclp_.py&quot;</span>, line <span class=\"m\">1</span>, in <span class=\"n\">&lt;module&gt;</span>\n",
      "<span class=\"w\">    </span><span class=\"n\">df</span><span class=\"o\">.</span><span class=\"n\">columns</span> <span class=\"o\">=</span> <span class=\"n\">df</span><span class=\"o\">.</span><span class=\"n\">columns</span><span class=\"o\">.</span><span class=\"n\">str</span><span class=\"o\">.</span><span class=\"n\">strip</span><span class=\"p\">()</span>  <span class=\"c1\"># Remove extra spaces in column names</span>\n",
      "<span class=\"w\">                 </span><span class=\"pm\">^^</span>\n",
      "<span class=\"gr\">NameError</span>: <span class=\"n\">name &#39;df&#39; is not defined</span>\n",
      "</pre></div>\n",
      "</span>"
     ]
    }
   ],
   "source": [
    "df.columns = df.columns.str.strip()  # Remove extra spaces in column names\n",
    "\n",
    "# Create Altair chart\n",
    "chart = (\n",
    "    alt.Chart(df)\n",
    "    .mark_point()\n",
    "    .encode(\n",
    "        x=alt.X(\n",
    "            \"Initial Biomass Concentration (x_o) [g/L]:Q\",\n",
    "            title=\"Biomass Concentration (g/L)\",\n",
    "        ),\n",
    "        y=alt.Y(\"Time Duration (t) [days]:Q\", title=\"Time Duration (days)\"),\n",
    "        color=\"Origin:N\",  # \":N\" for categorical data\n",
    "    )\n",
    ")\n",
    "\n",
    "mo.ui.altair_chart(chart)"
   ]
  },
  {
   "cell_type": "code",
   "execution_count": null,
   "id": "emfo",
   "metadata": {},
   "outputs": [],
   "source": []
  }
 ],
 "metadata": {},
 "nbformat": 4,
 "nbformat_minor": 5
}
